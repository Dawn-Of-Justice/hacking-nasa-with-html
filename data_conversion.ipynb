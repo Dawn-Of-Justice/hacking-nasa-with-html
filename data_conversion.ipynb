{
 "cells": [
  {
   "cell_type": "code",
   "execution_count": null,
   "metadata": {
    "vscode": {
     "languageId": "plaintext"
    }
   },
   "outputs": [],
   "source": [
    "#code to prepare data for unet training \n",
    "\n",
    "import numpy as np\n",
    "import pandas as pd\n",
    "import os\n",
    "from obspy import read\n",
    "\n",
    "# Define your paths\n",
    "catalog_file = '/home/aswin/Downloads/space_apps_2024_seismic_detection/data/lunar/training/catalogs/apollo12_catalog_GradeA_final.csv'\n",
    "data_path = '/home/aswin/Downloads/space_apps_2024_seismic_detection/data/lunar/training/data/S12_GradeA'\n",
    "output_path = '/home/aswin/Downloads/space_apps_2024_seismic_detection/output'\n",
    "\n",
    "# Load catalog\n",
    "catalog = pd.read_csv(catalog_file)\n",
    "\n",
    "# Loop through catalog rows and process each shot\n",
    "for index, row in catalog.iterrows():\n",
    "    filename = row['filename']\n",
    "    event_time = row['time_abs(%Y-%m-%dT%H:%M:%S.%f)']\n",
    "    \n",
    "    # Construct the full path to the CSV and MSEED files\n",
    "    csv_file = os.path.join(data_path, filename + '.csv')\n",
    "    mseed_file = os.path.join(data_path, filename + '.mseed')\n",
    "    \n",
    "    # Load CSV file (velocity data)\n",
    "    if os.path.exists(csv_file):\n",
    "        csv_data = pd.read_csv(csv_file)\n",
    "        \n",
    "        # Extract velocity data and convert to numpy array\n",
    "        velocities = csv_data['velocity(m/s)'].values\n",
    "        # You can reshape or process it further if necessary\n",
    "        npy_data = velocities.reshape(-1, 1)  # Adjust reshape based on your needs\n",
    "        \n",
    "        # Save the velocity data as a .npy file\n",
    "        npy_file = os.path.join(output_path, filename + '.npy')\n",
    "        np.save(npy_file, npy_data)\n",
    "        \n",
    "        # Extract the first break time from catalog and save as a .txt file\n",
    "        first_break_time = row['time_rel(sec)']  # First break picking time (relative time)\n",
    "        txt_file = os.path.join(output_path, filename + '.txt')\n",
    "        with open(txt_file, 'w') as f:\n",
    "            f.write(str(first_break_time))\n",
    "        \n",
    "        # Load MSEED file if needed for additional processing or validation\n",
    "        if os.path.exists(mseed_file):\n",
    "            st = read(mseed_file)\n",
    "            print(f\"Loaded MSEED for {filename}\")\n",
    "        else:\n",
    "            print(f\"MSEED file missing for {filename}\")\n",
    "    \n",
    "    else:\n",
    "        print(f\"CSV file missing for {filename}\")\n",
    "\n",
    "    print(f\"Processed {filename}: .npy and .txt saved.\")\n",
    "\n"
   ]
  },
  {
   "cell_type": "code",
   "execution_count": null,
   "metadata": {
    "vscode": {
     "languageId": "plaintext"
    }
   },
   "outputs": [],
   "source": []
  }
 ],
 "metadata": {
  "language_info": {
   "name": "python"
  }
 },
 "nbformat": 4,
 "nbformat_minor": 2
}
