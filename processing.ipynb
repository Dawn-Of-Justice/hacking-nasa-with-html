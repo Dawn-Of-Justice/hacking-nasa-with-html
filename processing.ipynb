{
 "cells": [
  {
   "cell_type": "code",
   "execution_count": 3,
   "metadata": {},
   "outputs": [
    {
     "name": "stdout",
     "output_type": "stream",
     "text": [
      "Processing MSEED files...\n"
     ]
    },
    {
     "name": "stderr",
     "output_type": "stream",
     "text": [
      "100%|██████████| 76/76 [00:33<00:00,  2.28it/s]\n"
     ]
    },
    {
     "name": "stdout",
     "output_type": "stream",
     "text": [
      "Saving processed data to processed_seismic_data_flattened.csv\n",
      "\n",
      "Dataset Statistics:\n",
      "Number of time points: 190597\n",
      "Number of features: 133\n",
      "\n",
      "Sample of feature names:\n",
      "- filename\n",
      "- arrival_time\n",
      "- relative_arrival\n",
      "- time\n",
      "- freq_0.00Hz\n",
      "- freq_0.03Hz\n",
      "- freq_0.05Hz\n",
      "- freq_0.08Hz\n",
      "- freq_0.10Hz\n",
      "- freq_0.13Hz\n"
     ]
    }
   ],
   "source": [
    "def process_seismic_data(tr_data_filt, sampling_rate, nperseg=256):\n",
    "    \"\"\"\n",
    "    Process seismic data to extract velocity and frequency features in the same shape.\n",
    "    \n",
    "    Parameters:\n",
    "    tr_data_filt : np.array\n",
    "        Filtered time series data\n",
    "    sampling_rate : float\n",
    "        Sampling rate of the seismic data\n",
    "    nperseg : int\n",
    "        Length of each segment for spectrogram calculation\n",
    "    \n",
    "    Returns:\n",
    "    X : np.array\n",
    "        Feature matrix with shape (n_samples, n_features)\n",
    "    feature_names : list\n",
    "        Names of the features\n",
    "    \"\"\"\n",
    "    from scipy import signal\n",
    "    \n",
    "    # Calculate spectrogram\n",
    "    frequencies, times, spectrogram = signal.spectrogram(\n",
    "        tr_data_filt, \n",
    "        fs=sampling_rate,\n",
    "        nperseg=nperseg\n",
    "    )\n",
    "    \n",
    "    # Reshape the data for training\n",
    "    n_timepoints = spectrogram.shape[1]\n",
    "    n_freq_bins = spectrogram.shape[0]\n",
    "    \n",
    "    # Create feature matrix\n",
    "    X = np.zeros((n_timepoints, n_freq_bins + 1))\n",
    "    \n",
    "    # For each time point in the spectrogram\n",
    "    for i in range(n_timepoints):\n",
    "        # Add the velocity value\n",
    "        start_idx = i * (nperseg // 2)\n",
    "        end_idx = start_idx + nperseg\n",
    "        if end_idx > len(tr_data_filt):\n",
    "            end_idx = len(tr_data_filt)\n",
    "        X[i, 0] = np.mean(tr_data_filt[start_idx:end_idx])\n",
    "        \n",
    "        # Add the frequency components\n",
    "        X[i, 1:] = spectrogram[:, i]\n",
    "    \n",
    "    # Create feature names\n",
    "    feature_names = ['velocity'] + [f'freq_{f:.2f}Hz' for f in frequencies]\n",
    "    \n",
    "    return X, feature_names, times, frequencies\n",
    "\n",
    "# Example usage\n",
    "X, feature_names, times, frequencies = process_seismic_data(\n",
    "    tr_data_filt,\n",
    "    tr_filt.stats.sampling_rate\n",
    ")\n",
    "\n",
    "# Print some information about the processed data\n",
    "print(f\"Shape of feature matrix: {X.shape}\")\n",
    "print(f\"Number of features: {len(feature_names)}\")\n",
    "print(f\"Feature names: {feature_names[:5]}...\")  # First 5 features\n",
    "\n",
    "# Optionally, create a DataFrame for easier handling\n",
    "df = pd.DataFrame(X, columns=feature_names)\n",
    "df['time'] = times\n",
    "\n",
    "# Example visualization of the processed data\n",
    "plt.figure(figsize=(12, 6))\n",
    "plt.subplot(211)\n",
    "plt.plot(times, df['velocity'])\n",
    "plt.title('Velocity over Time')\n",
    "plt.xlabel('Time (s)')\n",
    "plt.ylabel('Velocity (m/s)')\n",
    "\n",
    "plt.subplot(212)\n",
    "plt.imshow(X[:, 1:].T, aspect='auto', origin='lower', \n",
    "           extent=[times[0], times[-1], frequencies[0], frequencies[-1]])\n",
    "plt.colorbar(label='Power')\n",
    "plt.title('Frequency Components over Time')\n",
    "plt.xlabel('Time (s)')\n",
    "plt.ylabel('Frequency (Hz)')\n",
    "plt.tight_layout()\n",
    "plt.show()"
   ]
  },
  {
   "cell_type": "code",
   "execution_count": null,
   "metadata": {},
   "outputs": [],
   "source": []
  }
 ],
 "metadata": {
  "kernelspec": {
   "display_name": "venv",
   "language": "python",
   "name": "python3"
  },
  "language_info": {
   "codemirror_mode": {
    "name": "ipython",
    "version": 3
   },
   "file_extension": ".py",
   "mimetype": "text/x-python",
   "name": "python",
   "nbconvert_exporter": "python",
   "pygments_lexer": "ipython3",
   "version": "3.10.11"
  }
 },
 "nbformat": 4,
 "nbformat_minor": 2
}
