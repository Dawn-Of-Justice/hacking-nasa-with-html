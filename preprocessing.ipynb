{
 "cells": [
  {
   "cell_type": "code",
   "execution_count": 1,
   "metadata": {},
   "outputs": [],
   "source": [
    "import numpy as np\n",
    "import pandas as pd\n",
    "from obspy import read\n",
    "from datetime import datetime, timedelta\n",
    "import matplotlib.pyplot as plt\n",
    "import os"
   ]
  },
  {
   "cell_type": "code",
   "execution_count": 2,
   "metadata": {},
   "outputs": [],
   "source": [
    "\n",
    "# data_directory = './data/lunar/training/data/S12_GradeA/'\n",
    "# mseed_file = f'{data_directory}{test_filename}.mseed'\n",
    "mseed_file = '/home/arjun/Desktop/hacking-nasa-with-html/space_apps_2024_seismic_detection/data/mars/training/data/XB.ELYSE.02.BHV.2022-01-02HR04_evid0006.mseed'\n",
    "st = read(mseed_file)"
   ]
  },
  {
   "cell_type": "code",
   "execution_count": 3,
   "metadata": {},
   "outputs": [
    {
     "data": {
      "text/plain": [
       "         network: XB\n",
       "         station: ELYSE\n",
       "        location: 02\n",
       "         channel: BHV\n",
       "       starttime: 2022-01-02T04:00:00.025000Z\n",
       "         endtime: 2022-01-02T04:59:59.975000Z\n",
       "   sampling_rate: 20.0\n",
       "           delta: 0.05\n",
       "            npts: 72000\n",
       "           calib: 1.0\n",
       "         _format: MSEED\n",
       "           mseed: AttribDict({'dataquality': 'D', 'number_of_records': 143, 'encoding': 'FLOAT64', 'byteorder': '>', 'record_length': 4096, 'filesize': 585728})"
      ]
     },
     "execution_count": 3,
     "metadata": {},
     "output_type": "execute_result"
    }
   ],
   "source": [
    "st[0].stats"
   ]
  },
  {
   "cell_type": "code",
   "execution_count": 4,
   "metadata": {},
   "outputs": [
    {
     "data": {
      "text/plain": [
       "XB.ELYSE.02.BHV | 2022-01-02T04:00:00.025000Z - 2022-01-02T04:59:59.975000Z | 20.0 Hz, 72000 samples"
      ]
     },
     "execution_count": 4,
     "metadata": {},
     "output_type": "execute_result"
    }
   ],
   "source": [
    "st.traces[0]"
   ]
  },
  {
   "cell_type": "code",
   "execution_count": 5,
   "metadata": {},
   "outputs": [
    {
     "data": {
      "text/plain": [
       "[XB.ELYSE.02.BHV | 2022-01-02T04:00:00.025000Z - 2022-01-02T04:59:59.975000Z | 20.0 Hz, 72000 samples]"
      ]
     },
     "execution_count": 5,
     "metadata": {},
     "output_type": "execute_result"
    }
   ],
   "source": [
    "st.traces"
   ]
  },
  {
   "cell_type": "code",
   "execution_count": 6,
   "metadata": {},
   "outputs": [
    {
     "data": {
      "text/plain": [
       "['__add__',\n",
       " '__class__',\n",
       " '__delattr__',\n",
       " '__delitem__',\n",
       " '__dict__',\n",
       " '__dir__',\n",
       " '__doc__',\n",
       " '__eq__',\n",
       " '__format__',\n",
       " '__ge__',\n",
       " '__getattribute__',\n",
       " '__getitem__',\n",
       " '__getslice__',\n",
       " '__getstate__',\n",
       " '__gt__',\n",
       " '__hash__',\n",
       " '__iadd__',\n",
       " '__init__',\n",
       " '__init_subclass__',\n",
       " '__iter__',\n",
       " '__le__',\n",
       " '__len__',\n",
       " '__lt__',\n",
       " '__module__',\n",
       " '__mul__',\n",
       " '__ne__',\n",
       " '__new__',\n",
       " '__nonzero__',\n",
       " '__reduce__',\n",
       " '__reduce_ex__',\n",
       " '__repr__',\n",
       " '__setattr__',\n",
       " '__setitem__',\n",
       " '__sizeof__',\n",
       " '__str__',\n",
       " '__subclasshook__',\n",
       " '__weakref__',\n",
       " '_cleanup',\n",
       " '_dummy_stream_from_string',\n",
       " '_get_common_channels_info',\n",
       " '_groupby',\n",
       " '_ltrim',\n",
       " '_merge_checks',\n",
       " '_repr_pretty_',\n",
       " '_rotate_specific_channels_to_zne',\n",
       " '_rotate_to_zne',\n",
       " '_rtrim',\n",
       " '_trim_common_channels',\n",
       " 'append',\n",
       " 'attach_response',\n",
       " 'clear',\n",
       " 'copy',\n",
       " 'count',\n",
       " 'cutout',\n",
       " 'decimate',\n",
       " 'detrend',\n",
       " 'differentiate',\n",
       " 'extend',\n",
       " 'filter',\n",
       " 'get_gaps',\n",
       " 'insert',\n",
       " 'integrate',\n",
       " 'interpolate',\n",
       " 'max',\n",
       " 'merge',\n",
       " 'normalize',\n",
       " 'plot',\n",
       " 'pop',\n",
       " 'print_gaps',\n",
       " 'remove',\n",
       " 'remove_response',\n",
       " 'remove_sensitivity',\n",
       " 'resample',\n",
       " 'reverse',\n",
       " 'rotate',\n",
       " 'select',\n",
       " 'simulate',\n",
       " 'slice',\n",
       " 'slide',\n",
       " 'sort',\n",
       " 'spectrogram',\n",
       " 'split',\n",
       " 'stack',\n",
       " 'std',\n",
       " 'taper',\n",
       " 'traces',\n",
       " 'trigger',\n",
       " 'trim',\n",
       " 'verify',\n",
       " 'write']"
      ]
     },
     "execution_count": 6,
     "metadata": {},
     "output_type": "execute_result"
    }
   ],
   "source": [
    "dir(st)"
   ]
  },
  {
   "cell_type": "code",
   "execution_count": 7,
   "metadata": {},
   "outputs": [],
   "source": [
    "tr = st.traces[0].copy()\n",
    "tr_times = tr.times()\n",
    "tr_data = tr.data\n",
    "\n",
    "# Start time of trace (another way to get the relative arrival time using datetime)\n",
    "# starttime = tr.stats.starttime.datetime\n",
    "# arrival = (arrival_time - starttime).total_seconds()\n",
    "# arrival"
   ]
  },
  {
   "cell_type": "code",
   "execution_count": 8,
   "metadata": {},
   "outputs": [
    {
     "data": {
      "text/plain": [
       "(72000,)"
      ]
     },
     "execution_count": 8,
     "metadata": {},
     "output_type": "execute_result"
    }
   ],
   "source": [
    "tr_times.shape"
   ]
  },
  {
   "cell_type": "code",
   "execution_count": 9,
   "metadata": {},
   "outputs": [],
   "source": [
    "minfreq = 0.5\n",
    "maxfreq = 1.0\n",
    "\n",
    "# Going to create a separate trace for the filter data\n",
    "st_filt = st.copy()\n",
    "st_filt.filter('bandpass',freqmin=minfreq,freqmax=maxfreq)\n",
    "tr_filt = st_filt.traces[0].copy()\n",
    "tr_times_filt = tr_filt.times()\n",
    "tr_data_filt = tr_filt.data"
   ]
  },
  {
   "cell_type": "code",
   "execution_count": 10,
   "metadata": {},
   "outputs": [],
   "source": [
    "from scipy import signal\n",
    "from matplotlib import cm\n",
    "f, t, sxx = signal.spectrogram(tr_data_filt, tr_filt.stats.sampling_rate)"
   ]
  },
  {
   "cell_type": "code",
   "execution_count": 11,
   "metadata": {},
   "outputs": [
    {
     "data": {
      "text/plain": [
       "(129,)"
      ]
     },
     "execution_count": 11,
     "metadata": {},
     "output_type": "execute_result"
    }
   ],
   "source": [
    "f.shape"
   ]
  },
  {
   "cell_type": "code",
   "execution_count": 12,
   "metadata": {},
   "outputs": [
    {
     "data": {
      "text/plain": [
       "array([   6.4,   17.6,   28.8,   40. ,   51.2,   62.4,   73.6,   84.8,\n",
       "         96. ,  107.2,  118.4,  129.6,  140.8,  152. ,  163.2,  174.4,\n",
       "        185.6,  196.8,  208. ,  219.2,  230.4,  241.6,  252.8,  264. ,\n",
       "        275.2,  286.4,  297.6,  308.8,  320. ,  331.2,  342.4,  353.6,\n",
       "        364.8,  376. ,  387.2,  398.4,  409.6,  420.8,  432. ,  443.2,\n",
       "        454.4,  465.6,  476.8,  488. ,  499.2,  510.4,  521.6,  532.8,\n",
       "        544. ,  555.2,  566.4,  577.6,  588.8,  600. ,  611.2,  622.4,\n",
       "        633.6,  644.8,  656. ,  667.2,  678.4,  689.6,  700.8,  712. ,\n",
       "        723.2,  734.4,  745.6,  756.8,  768. ,  779.2,  790.4,  801.6,\n",
       "        812.8,  824. ,  835.2,  846.4,  857.6,  868.8,  880. ,  891.2,\n",
       "        902.4,  913.6,  924.8,  936. ,  947.2,  958.4,  969.6,  980.8,\n",
       "        992. , 1003.2, 1014.4, 1025.6, 1036.8, 1048. , 1059.2, 1070.4,\n",
       "       1081.6, 1092.8, 1104. , 1115.2, 1126.4, 1137.6, 1148.8, 1160. ,\n",
       "       1171.2, 1182.4, 1193.6, 1204.8, 1216. , 1227.2, 1238.4, 1249.6,\n",
       "       1260.8, 1272. , 1283.2, 1294.4, 1305.6, 1316.8, 1328. , 1339.2,\n",
       "       1350.4, 1361.6, 1372.8, 1384. , 1395.2, 1406.4, 1417.6, 1428.8,\n",
       "       1440. , 1451.2, 1462.4, 1473.6, 1484.8, 1496. , 1507.2, 1518.4,\n",
       "       1529.6, 1540.8, 1552. , 1563.2, 1574.4, 1585.6, 1596.8, 1608. ,\n",
       "       1619.2, 1630.4, 1641.6, 1652.8, 1664. , 1675.2, 1686.4, 1697.6,\n",
       "       1708.8, 1720. , 1731.2, 1742.4, 1753.6, 1764.8, 1776. , 1787.2,\n",
       "       1798.4, 1809.6, 1820.8, 1832. , 1843.2, 1854.4, 1865.6, 1876.8,\n",
       "       1888. , 1899.2, 1910.4, 1921.6, 1932.8, 1944. , 1955.2, 1966.4,\n",
       "       1977.6, 1988.8, 2000. , 2011.2, 2022.4, 2033.6, 2044.8, 2056. ,\n",
       "       2067.2, 2078.4, 2089.6, 2100.8, 2112. , 2123.2, 2134.4, 2145.6,\n",
       "       2156.8, 2168. , 2179.2, 2190.4, 2201.6, 2212.8, 2224. , 2235.2,\n",
       "       2246.4, 2257.6, 2268.8, 2280. , 2291.2, 2302.4, 2313.6, 2324.8,\n",
       "       2336. , 2347.2, 2358.4, 2369.6, 2380.8, 2392. , 2403.2, 2414.4,\n",
       "       2425.6, 2436.8, 2448. , 2459.2, 2470.4, 2481.6, 2492.8, 2504. ,\n",
       "       2515.2, 2526.4, 2537.6, 2548.8, 2560. , 2571.2, 2582.4, 2593.6,\n",
       "       2604.8, 2616. , 2627.2, 2638.4, 2649.6, 2660.8, 2672. , 2683.2,\n",
       "       2694.4, 2705.6, 2716.8, 2728. , 2739.2, 2750.4, 2761.6, 2772.8,\n",
       "       2784. , 2795.2, 2806.4, 2817.6, 2828.8, 2840. , 2851.2, 2862.4,\n",
       "       2873.6, 2884.8, 2896. , 2907.2, 2918.4, 2929.6, 2940.8, 2952. ,\n",
       "       2963.2, 2974.4, 2985.6, 2996.8, 3008. , 3019.2, 3030.4, 3041.6,\n",
       "       3052.8, 3064. , 3075.2, 3086.4, 3097.6, 3108.8, 3120. , 3131.2,\n",
       "       3142.4, 3153.6, 3164.8, 3176. , 3187.2, 3198.4, 3209.6, 3220.8,\n",
       "       3232. , 3243.2, 3254.4, 3265.6, 3276.8, 3288. , 3299.2, 3310.4,\n",
       "       3321.6, 3332.8, 3344. , 3355.2, 3366.4, 3377.6, 3388.8, 3400. ,\n",
       "       3411.2, 3422.4, 3433.6, 3444.8, 3456. , 3467.2, 3478.4, 3489.6,\n",
       "       3500.8, 3512. , 3523.2, 3534.4, 3545.6, 3556.8, 3568. , 3579.2,\n",
       "       3590.4])"
      ]
     },
     "execution_count": 12,
     "metadata": {},
     "output_type": "execute_result"
    }
   ],
   "source": [
    "t"
   ]
  },
  {
   "cell_type": "code",
   "execution_count": 13,
   "metadata": {},
   "outputs": [
    {
     "data": {
      "text/plain": [
       "(41409,)"
      ]
     },
     "execution_count": 13,
     "metadata": {},
     "output_type": "execute_result"
    }
   ],
   "source": [
    "sxx.flatten().shape"
   ]
  },
  {
   "cell_type": "code",
   "execution_count": 14,
   "metadata": {},
   "outputs": [
    {
     "data": {
      "text/plain": [
       "(129, 321)"
      ]
     },
     "execution_count": 14,
     "metadata": {},
     "output_type": "execute_result"
    }
   ],
   "source": [
    "sxx.shape"
   ]
  },
  {
   "cell_type": "code",
   "execution_count": 15,
   "metadata": {},
   "outputs": [
    {
     "data": {
      "text/plain": [
       "(321,)"
      ]
     },
     "execution_count": 15,
     "metadata": {},
     "output_type": "execute_result"
    }
   ],
   "source": [
    "sxx[1].shape"
   ]
  },
  {
   "cell_type": "code",
   "execution_count": 16,
   "metadata": {},
   "outputs": [],
   "source": [
    "import numpy as np\n",
    "import pandas as pd\n",
    "from obspy import read\n",
    "from datetime import datetime, timedelta\n",
    "import matplotlib.pyplot as plt\n",
    "import os"
   ]
  },
  {
   "cell_type": "code",
   "execution_count": 17,
   "metadata": {},
   "outputs": [],
   "source": [
    "\n",
    "# data_directory = './data/lunar/training/data/S12_GradeA/'\n",
    "# mseed_file = f'{data_directory}{test_filename}.mseed'\n",
    "mseed_file = '/home/arjun/Desktop/hacking-nasa-with-html/space_apps_2024_seismic_detection/data/mars/training/data/XB.ELYSE.02.BHV.2022-01-02HR04_evid0006.mseed'\n",
    "st = read(mseed_file)"
   ]
  },
  {
   "cell_type": "code",
   "execution_count": 18,
   "metadata": {},
   "outputs": [
    {
     "data": {
      "text/plain": [
       "         network: XB\n",
       "         station: ELYSE\n",
       "        location: 02\n",
       "         channel: BHV\n",
       "       starttime: 2022-01-02T04:00:00.025000Z\n",
       "         endtime: 2022-01-02T04:59:59.975000Z\n",
       "   sampling_rate: 20.0\n",
       "           delta: 0.05\n",
       "            npts: 72000\n",
       "           calib: 1.0\n",
       "         _format: MSEED\n",
       "           mseed: AttribDict({'dataquality': 'D', 'number_of_records': 143, 'encoding': 'FLOAT64', 'byteorder': '>', 'record_length': 4096, 'filesize': 585728})"
      ]
     },
     "execution_count": 18,
     "metadata": {},
     "output_type": "execute_result"
    }
   ],
   "source": [
    "st[0].stats"
   ]
  },
  {
   "cell_type": "code",
   "execution_count": 19,
   "metadata": {},
   "outputs": [
    {
     "data": {
      "text/plain": [
       "XB.ELYSE.02.BHV | 2022-01-02T04:00:00.025000Z - 2022-01-02T04:59:59.975000Z | 20.0 Hz, 72000 samples"
      ]
     },
     "execution_count": 19,
     "metadata": {},
     "output_type": "execute_result"
    }
   ],
   "source": [
    "st.traces[0]"
   ]
  },
  {
   "cell_type": "code",
   "execution_count": 20,
   "metadata": {},
   "outputs": [
    {
     "data": {
      "text/plain": [
       "[XB.ELYSE.02.BHV | 2022-01-02T04:00:00.025000Z - 2022-01-02T04:59:59.975000Z | 20.0 Hz, 72000 samples]"
      ]
     },
     "execution_count": 20,
     "metadata": {},
     "output_type": "execute_result"
    }
   ],
   "source": [
    "st.traces"
   ]
  },
  {
   "cell_type": "code",
   "execution_count": 21,
   "metadata": {},
   "outputs": [
    {
     "data": {
      "text/plain": [
       "['__add__',\n",
       " '__class__',\n",
       " '__delattr__',\n",
       " '__delitem__',\n",
       " '__dict__',\n",
       " '__dir__',\n",
       " '__doc__',\n",
       " '__eq__',\n",
       " '__format__',\n",
       " '__ge__',\n",
       " '__getattribute__',\n",
       " '__getitem__',\n",
       " '__getslice__',\n",
       " '__getstate__',\n",
       " '__gt__',\n",
       " '__hash__',\n",
       " '__iadd__',\n",
       " '__init__',\n",
       " '__init_subclass__',\n",
       " '__iter__',\n",
       " '__le__',\n",
       " '__len__',\n",
       " '__lt__',\n",
       " '__module__',\n",
       " '__mul__',\n",
       " '__ne__',\n",
       " '__new__',\n",
       " '__nonzero__',\n",
       " '__reduce__',\n",
       " '__reduce_ex__',\n",
       " '__repr__',\n",
       " '__setattr__',\n",
       " '__setitem__',\n",
       " '__sizeof__',\n",
       " '__slotnames__',\n",
       " '__str__',\n",
       " '__subclasshook__',\n",
       " '__weakref__',\n",
       " '_cleanup',\n",
       " '_dummy_stream_from_string',\n",
       " '_get_common_channels_info',\n",
       " '_groupby',\n",
       " '_ltrim',\n",
       " '_merge_checks',\n",
       " '_repr_pretty_',\n",
       " '_rotate_specific_channels_to_zne',\n",
       " '_rotate_to_zne',\n",
       " '_rtrim',\n",
       " '_trim_common_channels',\n",
       " 'append',\n",
       " 'attach_response',\n",
       " 'clear',\n",
       " 'copy',\n",
       " 'count',\n",
       " 'cutout',\n",
       " 'decimate',\n",
       " 'detrend',\n",
       " 'differentiate',\n",
       " 'extend',\n",
       " 'filter',\n",
       " 'get_gaps',\n",
       " 'insert',\n",
       " 'integrate',\n",
       " 'interpolate',\n",
       " 'max',\n",
       " 'merge',\n",
       " 'normalize',\n",
       " 'plot',\n",
       " 'pop',\n",
       " 'print_gaps',\n",
       " 'remove',\n",
       " 'remove_response',\n",
       " 'remove_sensitivity',\n",
       " 'resample',\n",
       " 'reverse',\n",
       " 'rotate',\n",
       " 'select',\n",
       " 'simulate',\n",
       " 'slice',\n",
       " 'slide',\n",
       " 'sort',\n",
       " 'spectrogram',\n",
       " 'split',\n",
       " 'stack',\n",
       " 'std',\n",
       " 'taper',\n",
       " 'traces',\n",
       " 'trigger',\n",
       " 'trim',\n",
       " 'verify',\n",
       " 'write']"
      ]
     },
     "execution_count": 21,
     "metadata": {},
     "output_type": "execute_result"
    }
   ],
   "source": [
    "dir(st)"
   ]
  },
  {
   "cell_type": "code",
   "execution_count": 22,
   "metadata": {},
   "outputs": [],
   "source": [
    "tr = st.traces[0].copy()\n",
    "tr_times = tr.times()\n",
    "tr_data = tr.data\n",
    "\n",
    "# Start time of trace (another way to get the relative arrival time using datetime)\n",
    "# starttime = tr.stats.starttime.datetime\n",
    "# arrival = (arrival_time - starttime).total_seconds()\n",
    "# arrival"
   ]
  },
  {
   "cell_type": "code",
   "execution_count": 23,
   "metadata": {},
   "outputs": [],
   "source": [
    "minfreq = 0.5\n",
    "maxfreq = 1.0\n",
    "\n",
    "# Going to create a separate trace for the filter data\n",
    "st_filt = st.copy()\n",
    "st_filt.filter('bandpass',freqmin=minfreq,freqmax=maxfreq)\n",
    "tr_filt = st_filt.traces[0].copy()\n",
    "tr_times_filt = tr_filt.times()\n",
    "tr_data_filt = tr_filt.data"
   ]
  },
  {
   "cell_type": "code",
   "execution_count": 24,
   "metadata": {},
   "outputs": [],
   "source": [
    "from scipy import signal\n",
    "from matplotlib import cm\n",
    "f, t, sxx = signal.spectrogram(tr_data_filt, tr_filt.stats.sampling_rate)"
   ]
  },
  {
   "cell_type": "code",
   "execution_count": 30,
   "metadata": {},
   "outputs": [
    {
     "data": {
      "text/plain": [
       "array([ 0.      ,  0.078125,  0.15625 ,  0.234375,  0.3125  ,  0.390625,\n",
       "        0.46875 ,  0.546875,  0.625   ,  0.703125,  0.78125 ,  0.859375,\n",
       "        0.9375  ,  1.015625,  1.09375 ,  1.171875,  1.25    ,  1.328125,\n",
       "        1.40625 ,  1.484375,  1.5625  ,  1.640625,  1.71875 ,  1.796875,\n",
       "        1.875   ,  1.953125,  2.03125 ,  2.109375,  2.1875  ,  2.265625,\n",
       "        2.34375 ,  2.421875,  2.5     ,  2.578125,  2.65625 ,  2.734375,\n",
       "        2.8125  ,  2.890625,  2.96875 ,  3.046875,  3.125   ,  3.203125,\n",
       "        3.28125 ,  3.359375,  3.4375  ,  3.515625,  3.59375 ,  3.671875,\n",
       "        3.75    ,  3.828125,  3.90625 ,  3.984375,  4.0625  ,  4.140625,\n",
       "        4.21875 ,  4.296875,  4.375   ,  4.453125,  4.53125 ,  4.609375,\n",
       "        4.6875  ,  4.765625,  4.84375 ,  4.921875,  5.      ,  5.078125,\n",
       "        5.15625 ,  5.234375,  5.3125  ,  5.390625,  5.46875 ,  5.546875,\n",
       "        5.625   ,  5.703125,  5.78125 ,  5.859375,  5.9375  ,  6.015625,\n",
       "        6.09375 ,  6.171875,  6.25    ,  6.328125,  6.40625 ,  6.484375,\n",
       "        6.5625  ,  6.640625,  6.71875 ,  6.796875,  6.875   ,  6.953125,\n",
       "        7.03125 ,  7.109375,  7.1875  ,  7.265625,  7.34375 ,  7.421875,\n",
       "        7.5     ,  7.578125,  7.65625 ,  7.734375,  7.8125  ,  7.890625,\n",
       "        7.96875 ,  8.046875,  8.125   ,  8.203125,  8.28125 ,  8.359375,\n",
       "        8.4375  ,  8.515625,  8.59375 ,  8.671875,  8.75    ,  8.828125,\n",
       "        8.90625 ,  8.984375,  9.0625  ,  9.140625,  9.21875 ,  9.296875,\n",
       "        9.375   ,  9.453125,  9.53125 ,  9.609375,  9.6875  ,  9.765625,\n",
       "        9.84375 ,  9.921875, 10.      ])"
      ]
     },
     "execution_count": 30,
     "metadata": {},
     "output_type": "execute_result"
    }
   ],
   "source": [
    "f"
   ]
  },
  {
   "cell_type": "code",
   "execution_count": 25,
   "metadata": {},
   "outputs": [
    {
     "data": {
      "text/plain": [
       "(129,)"
      ]
     },
     "execution_count": 25,
     "metadata": {},
     "output_type": "execute_result"
    }
   ],
   "source": [
    "f.shape"
   ]
  },
  {
   "cell_type": "code",
   "execution_count": 26,
   "metadata": {},
   "outputs": [
    {
     "data": {
      "text/plain": [
       "array([   6.4,   17.6,   28.8,   40. ,   51.2,   62.4,   73.6,   84.8,\n",
       "         96. ,  107.2,  118.4,  129.6,  140.8,  152. ,  163.2,  174.4,\n",
       "        185.6,  196.8,  208. ,  219.2,  230.4,  241.6,  252.8,  264. ,\n",
       "        275.2,  286.4,  297.6,  308.8,  320. ,  331.2,  342.4,  353.6,\n",
       "        364.8,  376. ,  387.2,  398.4,  409.6,  420.8,  432. ,  443.2,\n",
       "        454.4,  465.6,  476.8,  488. ,  499.2,  510.4,  521.6,  532.8,\n",
       "        544. ,  555.2,  566.4,  577.6,  588.8,  600. ,  611.2,  622.4,\n",
       "        633.6,  644.8,  656. ,  667.2,  678.4,  689.6,  700.8,  712. ,\n",
       "        723.2,  734.4,  745.6,  756.8,  768. ,  779.2,  790.4,  801.6,\n",
       "        812.8,  824. ,  835.2,  846.4,  857.6,  868.8,  880. ,  891.2,\n",
       "        902.4,  913.6,  924.8,  936. ,  947.2,  958.4,  969.6,  980.8,\n",
       "        992. , 1003.2, 1014.4, 1025.6, 1036.8, 1048. , 1059.2, 1070.4,\n",
       "       1081.6, 1092.8, 1104. , 1115.2, 1126.4, 1137.6, 1148.8, 1160. ,\n",
       "       1171.2, 1182.4, 1193.6, 1204.8, 1216. , 1227.2, 1238.4, 1249.6,\n",
       "       1260.8, 1272. , 1283.2, 1294.4, 1305.6, 1316.8, 1328. , 1339.2,\n",
       "       1350.4, 1361.6, 1372.8, 1384. , 1395.2, 1406.4, 1417.6, 1428.8,\n",
       "       1440. , 1451.2, 1462.4, 1473.6, 1484.8, 1496. , 1507.2, 1518.4,\n",
       "       1529.6, 1540.8, 1552. , 1563.2, 1574.4, 1585.6, 1596.8, 1608. ,\n",
       "       1619.2, 1630.4, 1641.6, 1652.8, 1664. , 1675.2, 1686.4, 1697.6,\n",
       "       1708.8, 1720. , 1731.2, 1742.4, 1753.6, 1764.8, 1776. , 1787.2,\n",
       "       1798.4, 1809.6, 1820.8, 1832. , 1843.2, 1854.4, 1865.6, 1876.8,\n",
       "       1888. , 1899.2, 1910.4, 1921.6, 1932.8, 1944. , 1955.2, 1966.4,\n",
       "       1977.6, 1988.8, 2000. , 2011.2, 2022.4, 2033.6, 2044.8, 2056. ,\n",
       "       2067.2, 2078.4, 2089.6, 2100.8, 2112. , 2123.2, 2134.4, 2145.6,\n",
       "       2156.8, 2168. , 2179.2, 2190.4, 2201.6, 2212.8, 2224. , 2235.2,\n",
       "       2246.4, 2257.6, 2268.8, 2280. , 2291.2, 2302.4, 2313.6, 2324.8,\n",
       "       2336. , 2347.2, 2358.4, 2369.6, 2380.8, 2392. , 2403.2, 2414.4,\n",
       "       2425.6, 2436.8, 2448. , 2459.2, 2470.4, 2481.6, 2492.8, 2504. ,\n",
       "       2515.2, 2526.4, 2537.6, 2548.8, 2560. , 2571.2, 2582.4, 2593.6,\n",
       "       2604.8, 2616. , 2627.2, 2638.4, 2649.6, 2660.8, 2672. , 2683.2,\n",
       "       2694.4, 2705.6, 2716.8, 2728. , 2739.2, 2750.4, 2761.6, 2772.8,\n",
       "       2784. , 2795.2, 2806.4, 2817.6, 2828.8, 2840. , 2851.2, 2862.4,\n",
       "       2873.6, 2884.8, 2896. , 2907.2, 2918.4, 2929.6, 2940.8, 2952. ,\n",
       "       2963.2, 2974.4, 2985.6, 2996.8, 3008. , 3019.2, 3030.4, 3041.6,\n",
       "       3052.8, 3064. , 3075.2, 3086.4, 3097.6, 3108.8, 3120. , 3131.2,\n",
       "       3142.4, 3153.6, 3164.8, 3176. , 3187.2, 3198.4, 3209.6, 3220.8,\n",
       "       3232. , 3243.2, 3254.4, 3265.6, 3276.8, 3288. , 3299.2, 3310.4,\n",
       "       3321.6, 3332.8, 3344. , 3355.2, 3366.4, 3377.6, 3388.8, 3400. ,\n",
       "       3411.2, 3422.4, 3433.6, 3444.8, 3456. , 3467.2, 3478.4, 3489.6,\n",
       "       3500.8, 3512. , 3523.2, 3534.4, 3545.6, 3556.8, 3568. , 3579.2,\n",
       "       3590.4])"
      ]
     },
     "execution_count": 26,
     "metadata": {},
     "output_type": "execute_result"
    }
   ],
   "source": [
    "t"
   ]
  },
  {
   "cell_type": "code",
   "execution_count": 27,
   "metadata": {},
   "outputs": [
    {
     "data": {
      "text/plain": [
       "(41409,)"
      ]
     },
     "execution_count": 27,
     "metadata": {},
     "output_type": "execute_result"
    }
   ],
   "source": [
    "sxx.flatten().shape"
   ]
  },
  {
   "cell_type": "code",
   "execution_count": 28,
   "metadata": {},
   "outputs": [
    {
     "data": {
      "text/plain": [
       "(129, 321)"
      ]
     },
     "execution_count": 28,
     "metadata": {},
     "output_type": "execute_result"
    }
   ],
   "source": [
    "sxx.shape"
   ]
  },
  {
   "cell_type": "code",
   "execution_count": 29,
   "metadata": {},
   "outputs": [
    {
     "data": {
      "text/plain": [
       "(321,)"
      ]
     },
     "execution_count": 29,
     "metadata": {},
     "output_type": "execute_result"
    }
   ],
   "source": [
    "sxx[1].shape"
   ]
  },
  {
   "cell_type": "code",
   "execution_count": null,
   "metadata": {},
   "outputs": [],
   "source": []
  },
  {
   "cell_type": "code",
   "execution_count": null,
   "metadata": {},
   "outputs": [],
   "source": []
  }
 ],
 "metadata": {
  "kernelspec": {
   "display_name": ".venv",
   "language": "python",
   "name": "python3"
  },
  "language_info": {
   "codemirror_mode": {
    "name": "ipython",
    "version": 3
   },
   "file_extension": ".py",
   "mimetype": "text/x-python",
   "name": "python",
   "nbconvert_exporter": "python",
   "pygments_lexer": "ipython3",
   "version": "3.11.9"
  }
 },
 "nbformat": 4,
 "nbformat_minor": 2
}
